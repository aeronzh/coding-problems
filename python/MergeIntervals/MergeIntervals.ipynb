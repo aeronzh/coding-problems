{
 "cells": [
  {
   "cell_type": "markdown",
   "metadata": {},
   "source": [
    "### Merge Intervals\n",
    "Given a collection of intervals, merge all overlapping intervals.\n",
    "\n",
    "**Sample Input**\n",
    "```\n",
    "[1,3],[2,6],[8,10],[15,18]\n",
    "```\n",
    "\n",
    "**Output**\n",
    "```\n",
    "[1,6],[8,10],[15,18]\n",
    "```\n",
    "\n",
    "#### Solution Concept\n",
    "We sort the intervals by decreasing order of start times. That way we can quickly check if intervals overlap or not by comparing start time of previous interval with end time of current interval.\n",
    "\n",
    "1. Sort all intervals in decreasing order of start time.\n",
    "2. Traverse sorted intervals starting from first interval, do following for every interval:\n",
    "\n",
    "    a. If current interval is not first interval and it \n",
    "    overlaps with previous interval, then merge it with\n",
    "    previous interval. Keep doing it while the interval\n",
    "    overlaps with the previous one.   \n",
    "    \n",
    "    b. Else add current interval to output list of intervals."
   ]
  },
  {
   "cell_type": "code",
   "execution_count": 2,
   "metadata": {
    "collapsed": false
   },
   "outputs": [
    {
     "name": "stdout",
     "output_type": "stream",
     "text": [
      "Input: [[1, 3], [1, 4], [1, 4], [5, 6], [5, 6], [2, 4]]\n",
      "Output: [[5, 6], [1, 4]]\n"
     ]
    }
   ],
   "source": [
    "import sys\n",
    "\n",
    "class Interval:\n",
    "    def __init__(self, start, end):\n",
    "        self.start = start\n",
    "        self.end = end\n",
    "        \n",
    "    def __eq__(self, other):\n",
    "        return self.start == other.start\n",
    "    \n",
    "    def __lt__(self, other):\n",
    "        return self.start < other.start\n",
    "    \n",
    "    def __repr__(self):\n",
    "        return \"[%s, %s]\" % (self.start, self.end)\n",
    "\n",
    "def merge(intervals):\n",
    "    # Sort all intervals in decreasing order of start time.\n",
    "    intervals.sort(reverse=True)\n",
    "    \n",
    "    n = len(intervals)\n",
    "    cursor = 0\n",
    "    for i in range(0, n):\n",
    "        if (cursor != 0 and intervals[i].end >= intervals[cursor-1].start):\n",
    "            while (cursor != 0 and intervals[i].end >= intervals[cursor-1].start):\n",
    "                # While current interval overlaps with previous interval --> Merge\n",
    "                intervals[cursor-1].start = min(intervals[cursor-1].start, intervals[i].start)\n",
    "                intervals[cursor-1].end = max(intervals[cursor-1].end, intervals[i].end)\n",
    "                cursor -= 1\n",
    "        else:\n",
    "            intervals[cursor] = intervals[i]\n",
    "        \n",
    "        cursor += 1\n",
    "    \n",
    "    return intervals[:cursor]\n",
    "    \n",
    "def main():\n",
    "    intervals = [Interval(1,3),Interval(1,4),Interval(1,4),Interval(5,6),Interval(5,6),Interval(2,4)]\n",
    "    print(\"Input: %s\" % (intervals))\n",
    "    print(\"Output: %s\" % merge(intervals))\n",
    "    \n",
    "main()"
   ]
  }
 ],
 "metadata": {
  "kernelspec": {
   "display_name": "Python 3",
   "language": "python",
   "name": "python3"
  },
  "language_info": {
   "codemirror_mode": {
    "name": "ipython",
    "version": 3
   },
   "file_extension": ".py",
   "mimetype": "text/x-python",
   "name": "python",
   "nbconvert_exporter": "python",
   "pygments_lexer": "ipython3",
   "version": "3.5.2"
  }
 },
 "nbformat": 4,
 "nbformat_minor": 1
}
