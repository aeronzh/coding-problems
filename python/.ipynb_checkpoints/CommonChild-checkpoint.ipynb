{
 "cells": [
  {
   "cell_type": "markdown",
   "metadata": {},
   "source": [
    "Given two strings _a_ and _b_ of equal length, what's the longest string (_S_) that can be constructed such that it is a child of both? \n",
    "\n",
    "A string _x_ is said to be a child of a string _y_ if _x_ can be formed by deleting 0 or more characters from _y_. \n",
    "\n",
    "For example, `ABCD` and `ABDC` has two children with maximum length 3, `ABC` and `ABD`. Note that we will not consider `ABCD` as a common child because `C` doesn't occur before D in the second string."
   ]
  },
  {
   "cell_type": "code",
   "execution_count": 1,
   "metadata": {
    "collapsed": false
   },
   "outputs": [
    {
     "name": "stdout",
     "output_type": "stream",
     "text": [
      "3\n"
     ]
    }
   ],
   "source": [
    "import sys\n",
    "\n",
    "a, b = \"SHINCHAN\", \"NOHARAAA\" #raw_input(), raw_input()\n",
    "\n",
    "# This is a Longest Common Subsequence problem\n",
    "\n",
    "n = len(a)+1\n",
    "\n",
    "lcs = [[0]*(n) for i in range(n)] # lcs[i][j] holds the LCS of a[:i] and b[:j] \n",
    "maximumLength = 0\n",
    "for i in range(1, n):\n",
    "\tfor j in range(1, n):\n",
    "\t\tif (a[i-1] == b[j-1]):\n",
    "\t\t\tlcs[i][j] = lcs[i-1][j-1] + 1\n",
    "\t\telse:\n",
    "\t\t\tlcs[i][j] = max(lcs[i][j-1],lcs[i-1][j])\n",
    "\t\t\t\n",
    "\t\tmaximumLength = max(maximumLength, lcs[i][j])\n",
    "\n",
    "\t\t\t\t\n",
    "print (maximumLength)\t"
   ]
  }
 ],
 "metadata": {
  "kernelspec": {
   "display_name": "Python 3",
   "language": "python",
   "name": "python3"
  },
  "language_info": {
   "codemirror_mode": {
    "name": "ipython",
    "version": 3
   },
   "file_extension": ".py",
   "mimetype": "text/x-python",
   "name": "python",
   "nbconvert_exporter": "python",
   "pygments_lexer": "ipython3",
   "version": "3.5.2"
  }
 },
 "nbformat": 4,
 "nbformat_minor": 1
}
