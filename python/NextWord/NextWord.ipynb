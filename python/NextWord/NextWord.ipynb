{
 "cells": [
  {
   "cell_type": "markdown",
   "metadata": {},
   "source": [
    "### Next Word\n",
    "Given a word $w$, consisting of characters `a-z`, `A-Z` and `0-9`, compute the next lexicographical word $w'$,\n",
    "with `0-9` < `A-Z` < `a-z`.\n",
    "\n",
    "<img src=\"image.png\">\n",
    "\n",
    "**Sample Input**\n",
    "```\n",
    "hLPk7\n",
    "```\n",
    "\n",
    "**Output**\n",
    "```\n",
    "hLPk8\n",
    "```"
   ]
  },
  {
   "cell_type": "code",
   "execution_count": 2,
   "metadata": {
    "collapsed": false,
    "scrolled": true
   },
   "outputs": [
    {
     "name": "stdout",
     "output_type": "stream",
     "text": [
      "k8\n"
     ]
    }
   ],
   "source": [
    "import sys\n",
    "\n",
    "def nextWord(w):\n",
    "    word = list(w)\n",
    "    cursor = len(w) - 1\n",
    "    carry = True\n",
    "    while carry and cursor >= 0:\n",
    "        carry = False\n",
    "        word[cursor] =  chr(ord(word[cursor]) + 1)\n",
    "        if ord(word[cursor]) == 58:\n",
    "            # '9' -> 'A'\n",
    "            word[cursor] = \"A\"\n",
    "        elif ord(word[cursor]) == 91:\n",
    "            # 'Z' -> 'a'\n",
    "            word[cursor] = \"a\"\n",
    "        elif ord(word[cursor]) == 123:\n",
    "            # 'z' -> '0'\n",
    "            if cursor > 0:\n",
    "                word[cursor] = \"0\"\n",
    "                cursor -= 1\n",
    "                carry = True\n",
    "            else:\n",
    "                return None\n",
    "            \n",
    "        \n",
    "    return \"\".join(word)\n",
    "\n",
    "word = \"k7\"\n",
    "while word:\n",
    "    print(word,end=\" \")\n",
    "    word = nextWord(word)"
   ]
  }
 ],
 "metadata": {
  "kernelspec": {
   "display_name": "Python 3",
   "language": "python",
   "name": "python3"
  },
  "language_info": {
   "codemirror_mode": {
    "name": "ipython",
    "version": 3
   },
   "file_extension": ".py",
   "mimetype": "text/x-python",
   "name": "python",
   "nbconvert_exporter": "python",
   "pygments_lexer": "ipython3",
   "version": "3.5.2"
  }
 },
 "nbformat": 4,
 "nbformat_minor": 1
}
