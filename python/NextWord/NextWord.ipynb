{
 "cells": [
  {
   "cell_type": "markdown",
   "metadata": {},
   "source": [
    "### Next Word\n",
    "Given a word $w$, consisting of characters `a-z`, `A-Z` and `0-9`, compute the next lexicographical word $w'$,\n",
    "with `0-9` < `A-Z` < `a-z`.\n",
    "\n",
    "<img src=\"image.png\">\n",
    "\n",
    "**Sample Input**\n",
    "```\n",
    "hLPk7\n",
    "```\n",
    "\n",
    "**Output**\n",
    "```\n",
    "hLPk8\n",
    "```"
   ]
  },
  {
   "cell_type": "code",
   "execution_count": 2,
   "metadata": {
    "collapsed": false,
    "scrolled": true
   },
   "outputs": [
    {
     "name": "stdout",
     "output_type": "stream",
     "text": [
      "k7 k8 k9 kA kB kC kD kE kF kG kH kI kJ kK kL kM kN kO kP kQ kR kS kT kU kV kW kX kY kZ ka kb kc kd ke kf kg kh ki kj kk kl km kn ko kp kq kr ks kt ku kv kw kx ky kz l0 l1 l2 l3 l4 l5 l6 l7 l8 l9 lA lB lC lD lE lF lG lH lI lJ lK lL lM lN lO lP lQ lR lS lT lU lV lW lX lY lZ la lb lc ld le lf lg lh li lj lk ll lm ln lo lp lq lr ls lt lu lv lw lx ly lz m0 m1 m2 m3 m4 m5 m6 m7 m8 m9 mA mB mC mD mE mF mG mH mI mJ mK mL mM mN mO mP mQ mR mS mT mU mV mW mX mY mZ ma mb mc md me mf mg mh mi mj mk ml mm mn mo mp mq mr ms mt mu mv mw mx my mz n0 n1 n2 n3 n4 n5 n6 n7 n8 n9 nA nB nC nD nE nF nG nH nI nJ nK nL nM nN nO nP nQ nR nS nT nU nV nW nX nY nZ na nb nc nd ne nf ng nh ni nj nk nl nm nn no np nq nr ns nt nu nv nw nx ny nz o0 o1 o2 o3 o4 o5 o6 o7 o8 o9 oA oB oC oD oE oF oG oH oI oJ oK oL oM oN oO oP oQ oR oS oT oU oV oW oX oY oZ oa ob oc od oe of og oh oi oj ok ol om on oo op oq or os ot ou ov ow ox oy oz p0 p1 p2 p3 p4 p5 p6 p7 p8 p9 pA pB pC pD pE pF pG pH pI pJ pK pL pM pN pO pP pQ pR pS pT pU pV pW pX pY pZ pa pb pc pd pe pf pg ph pi pj pk pl pm pn po pp pq pr ps pt pu pv pw px py pz q0 q1 q2 q3 q4 q5 q6 q7 q8 q9 qA qB qC qD qE qF qG qH qI qJ qK qL qM qN qO qP qQ qR qS qT qU qV qW qX qY qZ qa qb qc qd qe qf qg qh qi qj qk ql qm qn qo qp qq qr qs qt qu qv qw qx qy qz r0 r1 r2 r3 r4 r5 r6 r7 r8 r9 rA rB rC rD rE rF rG rH rI rJ rK rL rM rN rO rP rQ rR rS rT rU rV rW rX rY rZ ra rb rc rd re rf rg rh ri rj rk rl rm rn ro rp rq rr rs rt ru rv rw rx ry rz s0 s1 s2 s3 s4 s5 s6 s7 s8 s9 sA sB sC sD sE sF sG sH sI sJ sK sL sM sN sO sP sQ sR sS sT sU sV sW sX sY sZ sa sb sc sd se sf sg sh si sj sk sl sm sn so sp sq sr ss st su sv sw sx sy sz t0 t1 t2 t3 t4 t5 t6 t7 t8 t9 tA tB tC tD tE tF tG tH tI tJ tK tL tM tN tO tP tQ tR tS tT tU tV tW tX tY tZ ta tb tc td te tf tg th ti tj tk tl tm tn to tp tq tr ts tt tu tv tw tx ty tz u0 u1 u2 u3 u4 u5 u6 u7 u8 u9 uA uB uC uD uE uF uG uH uI uJ uK uL uM uN uO uP uQ uR uS uT uU uV uW uX uY uZ ua ub uc ud ue uf ug uh ui uj uk ul um un uo up uq ur us ut uu uv uw ux uy uz v0 v1 v2 v3 v4 v5 v6 v7 v8 v9 vA vB vC vD vE vF vG vH vI vJ vK vL vM vN vO vP vQ vR vS vT vU vV vW vX vY vZ va vb vc vd ve vf vg vh vi vj vk vl vm vn vo vp vq vr vs vt vu vv vw vx vy vz w0 w1 w2 w3 w4 w5 w6 w7 w8 w9 wA wB wC wD wE wF wG wH wI wJ wK wL wM wN wO wP wQ wR wS wT wU wV wW wX wY wZ wa wb wc wd we wf wg wh wi wj wk wl wm wn wo wp wq wr ws wt wu wv ww wx wy wz x0 x1 x2 x3 x4 x5 x6 x7 x8 x9 xA xB xC xD xE xF xG xH xI xJ xK xL xM xN xO xP xQ xR xS xT xU xV xW xX xY xZ xa xb xc xd xe xf xg xh xi xj xk xl xm xn xo xp xq xr xs xt xu xv xw xx xy xz y0 y1 y2 y3 y4 y5 y6 y7 y8 y9 yA yB yC yD yE yF yG yH yI yJ yK yL yM yN yO yP yQ yR yS yT yU yV yW yX yY yZ ya yb yc yd ye yf yg yh yi yj yk yl ym yn yo yp yq yr ys yt yu yv yw yx yy yz z0 z1 z2 z3 z4 z5 z6 z7 z8 z9 zA zB zC zD zE zF zG zH zI zJ zK zL zM zN zO zP zQ zR zS zT zU zV zW zX zY zZ za zb zc zd ze zf zg zh zi zj zk zl zm zn zo zp zq zr zs zt zu zv zw zx zy zz "
     ]
    }
   ],
   "source": [
    "import sys\n",
    "\n",
    "def nextWord(w):\n",
    "    word = list(w)\n",
    "    cursor = len(w) - 1\n",
    "    carry = True\n",
    "    while carry and cursor >= 0:\n",
    "        carry = False\n",
    "        word[cursor] =  chr(ord(word[cursor]) + 1)\n",
    "        if ord(word[cursor]) == 58:\n",
    "            # '9' -> 'A'\n",
    "            word[cursor] = \"A\"\n",
    "        elif ord(word[cursor]) == 91:\n",
    "            # 'Z' -> 'a'\n",
    "            word[cursor] = \"a\"\n",
    "        elif ord(word[cursor]) == 123:\n",
    "            # 'z' -> '0'\n",
    "            if cursor > 0:\n",
    "                word[cursor] = \"0\"\n",
    "                cursor -= 1\n",
    "                carry = True\n",
    "            else:\n",
    "                return None\n",
    "            \n",
    "        \n",
    "    return \"\".join(word)\n",
    "\n",
    "word = \"k7\"\n",
    "while word:\n",
    "    print(word,end=\" \")\n",
    "    word = nextWord(word)"
   ]
  }
 ],
 "metadata": {
  "kernelspec": {
   "display_name": "Python 3",
   "language": "python",
   "name": "python3"
  },
  "language_info": {
   "codemirror_mode": {
    "name": "ipython",
    "version": 3
   },
   "file_extension": ".py",
   "mimetype": "text/x-python",
   "name": "python",
   "nbconvert_exporter": "python",
   "pygments_lexer": "ipython3",
   "version": "3.5.2"
  }
 },
 "nbformat": 4,
 "nbformat_minor": 1
}
