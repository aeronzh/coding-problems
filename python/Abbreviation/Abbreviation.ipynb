{
 "cells": [
  {
   "cell_type": "markdown",
   "metadata": {},
   "source": [
    "### Abbreviation\n",
    "You can perform the following operation on some string, $a$:\n",
    "\n",
    "1. Capitalize zero or more of $a$'s lowercase letters at some index i (i.e., make them uppercase).\n",
    "2. Delete all of the remaining lowercase letters in $a$.\n",
    "\n",
    "Given $q$ queries in the form of two strings, $a$ and $b$, determine if it's possible to make $a$ equal to $b$ by performing the above operation on $a$. If $a$ can be transformed into $b$, print `YES` on a new line; otherwise, print `NO`.\n",
    "\n",
    "**Input Format**\n",
    "\n",
    "The first line contains a single integer, $q$, denoting the number of queries. The $2q$ subsequent lines describe each query in the following format:\n",
    "\n",
    "1. The first line of each query contains a single string, $a$.\n",
    "2. The second line of each query contains a single string, $b$.\n",
    "\n",
    "\n",
    "**Constraints**\n",
    "- $1\\le q \\le 10$\n",
    "- $1 \\le |a|, |b| \\le 1000$\n",
    "- String $a$ consists only of uppercase and lowercase English letters.\n",
    "- String $b$ consists only of uppercase English letters.\n",
    "\n",
    "\n",
    "**Output Format**\n",
    "\n",
    "For each query, print `YES` on a new line if it's possible to make string $a$ equal to string $b$ by performing the operation specified above; otherwise, print `NO`.\n",
    "\n",
    "**Sample Input**\n",
    "```\n",
    "1\n",
    "daBcd\n",
    "ABC\n",
    "```\n",
    "\n",
    "**Sample Output**\n",
    "```\n",
    "YES\n",
    "```\n",
    "\n",
    "**Explanation**\n",
    "\n",
    "We have $a = daBcd$ and $b = ABC$. We perform the following operation:\n",
    "\n",
    "1. Capitalize the letters `a` and `c` in $a$ so that $a = dABCd$.\n",
    "2. Delete all the remaining lowercase letters in $a$ so that $a = ABC$.\n",
    "\n",
    "Because we were able to successfully convert $a$ to $b$, we print `YES` on a new line."
   ]
  },
  {
   "cell_type": "code",
   "execution_count": 44,
   "metadata": {
    "collapsed": false
   },
   "outputs": [
    {
     "name": "stdout",
     "output_type": "stream",
     "text": [
      "YES\n"
     ]
    }
   ],
   "source": [
    "import sys\n",
    "\n",
    "def solve(a,b):\n",
    "    if len(b) > len(a):\n",
    "        print(\"NO\")\n",
    "    else:\n",
    "        i = 0 # index for a\n",
    "        j = 0 # index for b\n",
    "        n = len(a)\n",
    "        dp = [False for x in range(len(b))] \n",
    "        while i < n:\n",
    "            found = False\n",
    "            while i < n and a[i].upper() != b[j]:\n",
    "                if a[i].isupper() and b[j-1] != a[i]:\n",
    "                    print(\"NO\")\n",
    "                    return\n",
    "                \n",
    "                i = i + 1\n",
    "        \n",
    "            if i < len(a):\n",
    "                found = True\n",
    "        \n",
    "            if found:\n",
    "                dp[j] = True\n",
    "                j = j + 1\n",
    "                if j == len(b):\n",
    "                    break\n",
    "                \n",
    "        \n",
    "            i = i + 1\n",
    "        \n",
    "        if dp[-1]:\n",
    "            # Check if all a's remaining characters are lowercase \n",
    "            # (because we can only delete remaining lowercase chars)\n",
    "            for c in a[i+1:]:\n",
    "                if c.isupper() and b[j-1] != c:\n",
    "                    print(\"NO\")\n",
    "                    return\n",
    "                    \n",
    "            print(\"YES\")\n",
    "        else:\n",
    "            print(\"NO\")\n",
    "\n",
    "def main():\n",
    "    f = open(\"in5.txt\")\n",
    "    queries = int(f.readline())\n",
    "    for q in range(0, queries):\n",
    "        a = f.readline().strip()\n",
    "        b = f.readline().strip()\n",
    "        solve(list(a),list(b))\n",
    "        \n",
    "        \n",
    "main()"
   ]
  }
 ],
 "metadata": {
  "kernelspec": {
   "display_name": "Python 3",
   "language": "python",
   "name": "python3"
  },
  "language_info": {
   "codemirror_mode": {
    "name": "ipython",
    "version": 3
   },
   "file_extension": ".py",
   "mimetype": "text/x-python",
   "name": "python",
   "nbconvert_exporter": "python",
   "pygments_lexer": "ipython3",
   "version": "3.5.2"
  }
 },
 "nbformat": 4,
 "nbformat_minor": 1
}
