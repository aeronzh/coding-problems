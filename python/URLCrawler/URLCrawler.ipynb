{
 "cells": [
  {
   "cell_type": "markdown",
   "metadata": {},
   "source": [
    "### URL Crawler\n",
    "Given a URL `http://somedomain.com/hLPk7.html` it `GET` the _next_ URL `http://somedomain.com/hLPk8.html` if available."
   ]
  },
  {
   "cell_type": "code",
   "execution_count": 6,
   "metadata": {
    "collapsed": false
   },
   "outputs": [
    {
     "name": "stdout",
     "output_type": "stream",
     "text": [
      ".\n",
      "Resource found at 'http://somedomain.com/hLPk8.html'\n",
      "."
     ]
    }
   ],
   "source": [
    "import sys\n",
    "import urllib.request\n",
    "import time\n",
    "\n",
    "def downloadfile(resource, name):\n",
    "    output = open(name,\"wb\")\n",
    "    output.write(resource.read())\n",
    "    output.close()\n",
    "    \n",
    "\"\"\"\n",
    "Given a word 'hLPk7' returns the next lexicographical word 'hLPk8'.\n",
    "\"\"\"\n",
    "def nextWord(w):\n",
    "    word = list(w)\n",
    "    cursor = len(w) - 1\n",
    "    carry = True\n",
    "    while carry and cursor >= 0:\n",
    "        carry = False\n",
    "        word[cursor] =  chr(ord(word[cursor]) + 1)\n",
    "        if ord(word[cursor]) == 58:\n",
    "            # '9' -> 'A'\n",
    "            word[cursor] = \"A\"\n",
    "        elif ord(word[cursor]) == 91:\n",
    "            # 'Z' -> 'a'\n",
    "            word[cursor] = \"a\"\n",
    "        elif ord(word[cursor]) == 123:\n",
    "            # 'z' -> '0'\n",
    "            if cursor > 0:\n",
    "                word[cursor] = \"0\"\n",
    "                cursor -= 1\n",
    "                carry = True\n",
    "            else:\n",
    "                return None\n",
    "            \n",
    "        \n",
    "    return \"\".join(word)\n",
    "\n",
    "def scan(urlPattern,suffix):\n",
    "    proxy = urllib.request.ProxyHandler({\"http\": \"184.173.139.10\"})\n",
    "    # construct a new opener using your proxy settings\n",
    "    opener = urllib.request.build_opener(proxy)\n",
    "    # install the openen on the module-level\n",
    "    urllib.request.install_opener(opener)\n",
    "\n",
    "    for i in range(0,3):\n",
    "        url = urlPattern % (suffix)\n",
    "        try:\n",
    "            with urllib.request.urlopen(url) as resource:\n",
    "                print(\"\\nResource found at '%s'\"%(url))\n",
    "        except:\n",
    "               print(\"\",end=\".\")\n",
    "    \n",
    "        suffix = nextWord(suffix)\n",
    "        time.sleep(1) # delays for 1 seconds\n",
    "        \n",
    "        \n",
    "scan(\"http://somedomain.com/%s.html\", \"hLPk7\")"
   ]
  }
 ],
 "metadata": {
  "kernelspec": {
   "display_name": "Python 3",
   "language": "python",
   "name": "python3"
  },
  "language_info": {
   "codemirror_mode": {
    "name": "ipython",
    "version": 3
   },
   "file_extension": ".py",
   "mimetype": "text/x-python",
   "name": "python",
   "nbconvert_exporter": "python",
   "pygments_lexer": "ipython3",
   "version": "3.5.2"
  }
 },
 "nbformat": 4,
 "nbformat_minor": 1
}
