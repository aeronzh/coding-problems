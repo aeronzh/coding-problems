{
 "cells": [
  {
   "cell_type": "markdown",
   "metadata": {},
   "source": [
    "### Maximum Perimeter Triangle\n",
    "\n",
    "Given $n$ sticks of lengths $l_1, l_2, \\dots l_{n-1}$, use $3$ of the sticks to construct \n",
    "a non-degenerate triangle with the maximum possible perimeter. \n",
    "Then print the lengths of its sides as $3$ space-separated integers in non-decreasing order.\n",
    "\n",
    "If there are several valid triangles having the maximum perimeter:\n",
    "\n",
    "1. Choose the one with the longest maximum side (i.e., the largest value for the longest side of any valid triangle having the maximum perimeter).\n",
    "2. If more than one such triangle meets the first criterion, choose the one with the longest minimum side (i.e., the largest value for the shortest side of any valid triangle having the maximum perimeter).\n",
    "3. If more than one such triangle meets the second criterion, print any one of the qualifying triangles.\n",
    "\n",
    "If no non-degenerate triangle exists, print `-1`.\n",
    "\n",
    "<img src=\"image.gif\">\n",
    "\n",
    "**Input Format**\n",
    "\n",
    "The first line contains single integer, $n$, denoting the number of sticks. \n",
    "The second line contains $n$ space-separated integers,$l_1, l_2, \\dots l_{n-1}$ , describing the respective stick lengths.\n",
    "\n",
    "**Constraints**\n",
    "\n",
    "- $3 \\le n \\le 50$\n",
    "- $1 \\le l_i \\le 10^9$\n",
    "\n",
    "**Output Format**\n",
    "\n",
    "Print $3$ non-decreasing space-separated integers, $a,b,$ and $c$ (where $a \\le b \\le c$) describing the respective lengths of \n",
    "a triangle meeting the criteria in the above Problem Statement.\n",
    "\n",
    "If no non-degenerate triangle can be constructed, print `-1`.\n",
    "\n",
    "**Sample Input 0**\n",
    "```\n",
    "5\n",
    "1 1 1 3 3\n",
    "```\n",
    "\n",
    "**Sample Output 0**\n",
    "```\n",
    "1 3 3\n",
    "```\n",
    "\n",
    "**Sample Input 1**\n",
    "```\n",
    "3\n",
    "1 2 3\n",
    "```\n",
    "\n",
    "**Sample Output 1**\n",
    "```\n",
    "-1\n",
    "```\n",
    "\n",
    "**Explanation**\n",
    "\n",
    "Sample Case 0: \n",
    "\n",
    "There are $2$ possible unique triangles:\n",
    "\n",
    "1. $(1,1,1)$\n",
    "2. $(1,3,3)$\n",
    "\n",
    "The second triangle has the largest perimeter, so we print its side lengths on a new line in non-decreasing order.\n",
    "\n",
    "\n",
    "Sample Case 1: \n",
    "\n",
    "The triangle $(1,2,3)$ is degenerate and thus can't be constructed, so we print `-1` on a new line."
   ]
  },
  {
   "cell_type": "code",
   "execution_count": 2,
   "metadata": {
    "collapsed": false
   },
   "outputs": [
    {
     "name": "stdout",
     "output_type": "stream",
     "text": [
      "94997775 96043868 96265144\n"
     ]
    }
   ],
   "source": [
    "import sys\n",
    "\n",
    "def main():\n",
    "\tf = open(\"in.txt\")\n",
    "\tn = int(f.readline())\n",
    "\tsides = sorted(int(i) for i in f.readline().split())\n",
    "\ti = n - 3\n",
    "\twhile i >= 0 and sides[i] + sides[i+1] <= sides[i+2]:\n",
    "\t\ti -= 1  # skip last\n",
    "\t\t\n",
    "\tif i >= 0:\n",
    "\t\tprint (\"%s %s %s\" % (sides[i], sides[i+1], sides[i+2]))\n",
    "\telse:\n",
    "\t\tprint(-1)\n",
    "\t\t\n",
    "\n",
    "main()"
   ]
  }
 ],
 "metadata": {
  "kernelspec": {
   "display_name": "Python 3",
   "language": "python",
   "name": "python3"
  },
  "language_info": {
   "codemirror_mode": {
    "name": "ipython",
    "version": 3
   },
   "file_extension": ".py",
   "mimetype": "text/x-python",
   "name": "python",
   "nbconvert_exporter": "python",
   "pygments_lexer": "ipython3",
   "version": "3.5.2"
  }
 },
 "nbformat": 4,
 "nbformat_minor": 1
}
