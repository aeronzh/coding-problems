{
 "cells": [
  {
   "cell_type": "code",
   "execution_count": 32,
   "metadata": {
    "collapsed": false
   },
   "outputs": [
    {
     "name": "stdout",
     "output_type": "stream",
     "text": [
      "high:0 a:[3, 4, 2, 1]  pos:0  low:0\n",
      "high:1 a:[2, 3, 4, 1]  pos:0  low:0\n",
      "high:2 a:[2, 1, 3, 4]  pos:1  low:1\n",
      "2\n"
     ]
    }
   ],
   "source": [
    "import sys\n",
    "\n",
    "# Returns the index where num should be. Everything from that index (inclusive)\n",
    "# should be shifted to the right\n",
    "def binarySearch(a, low, high, num):\n",
    "    while low < high:\n",
    "        mid = low + (high - low)//2\n",
    "        if a[mid] <= num:\n",
    "            low = mid + 1\n",
    "        else:\n",
    "            high = mid \n",
    "    return low\n",
    "\n",
    "# Return index in interval [l,r] where unsorted range begins\n",
    "def lastIndexSorted(a, l, r):\n",
    "    for x in range(l+1,r+1):\n",
    "        if a[x] <= a[x-1]:\n",
    "            return x-1\n",
    "    return r\n",
    "\n",
    "\n",
    "def main():\n",
    "    f = open(\"in.txt\")\n",
    "    n,q,k = (int(i) for i in f.readline().strip().split(' '))\n",
    "    a = list(map(int, f.readline().split()))\n",
    "    \n",
    "    for x in range(q):\n",
    "        l,r = (int(i) for i in f.readline().strip().split(' '))\n",
    "        low = l\n",
    "        high = lastIndexSorted(a, l, r)\n",
    "        for i in range(high+1, r+1):\n",
    "            num = a[i]\n",
    "            pos = binarySearch(a, low, high, num)\n",
    "            # print(\"%s % s %s %s\"%(a[0:pos] ,a[i:i+1] , a[pos:i] , a[i+1:]))\n",
    "            \n",
    "            # method 1\n",
    "            # a = a[0:pos] + a[i:i+1] + a[pos:i] + a[i+1:]\n",
    "            \n",
    "            # method 2\n",
    "            #a.insert(pos, num)\n",
    "            #del a[i+1]\n",
    "            \n",
    "            \n",
    "            print(\"high:%s a:%s  pos:%s  low:%s\"%(high,a, pos,low))\n",
    "            high += 1\n",
    "            \n",
    "    \n",
    "    print(a[k])\n",
    "    \n",
    "main()"
   ]
  }
 ],
 "metadata": {
  "kernelspec": {
   "display_name": "Python 3",
   "language": "python",
   "name": "python3"
  },
  "language_info": {
   "codemirror_mode": {
    "name": "ipython",
    "version": 3
   },
   "file_extension": ".py",
   "mimetype": "text/x-python",
   "name": "python",
   "nbconvert_exporter": "python",
   "pygments_lexer": "ipython3",
   "version": "3.5.2"
  }
 },
 "nbformat": 4,
 "nbformat_minor": 1
}
