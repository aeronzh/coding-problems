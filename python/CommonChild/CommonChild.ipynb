{
 "cells": [
  {
   "cell_type": "markdown",
   "metadata": {},
   "source": [
    "## Common Child\n",
    "Given two strings $\\textit{a}$ and $\\textit{b}$ of equal length, what's the longest string ($\\textit{S}$) that can be constructed such that it is a child of both? \n",
    "\n",
    "A string $\\textit{x}$ is said to be a child of a string $\\textit{y}$ if $\\textit{x}$ can be formed by deleting $\\textit{0}$ or more characters from $\\textit{y}$. \n",
    "\n",
    "For example, `ABCD` and `ABDC` has two children with maximum length $\\textit{3}$, `ABC` and `ABD`. Note that we will not consider `ABCD` as a common child because `C` doesn't occur before `D` in the second string.\n",
    "\n",
    "\n",
    "#### Input format\n",
    "Two strings, $\\textit{a}$ and $\\textit{b}$, with a newline separating them.\n",
    "\n",
    "#### Constraints\n",
    "All characters are upper cased and lie between ASCII values 65-90. The maximum length of the strings is 5000.\n",
    "\n",
    "#### Output format\n",
    "Length of string _S_.\n",
    "\n",
    "#### Sample Input 0\n",
    "```\n",
    "HARRY\n",
    "SALLY\n",
    "```\n",
    "\n",
    "#### Sample Output 0\n",
    "```\n",
    "2\n",
    "```\n",
    "\n",
    "The longest possible subset of characters that is possible by deleting zero or more characters from `HARRY` and `SALLY` is `AY`, whose length is 2.\n",
    "\n",
    "\n",
    "#### Sample Input 1\n",
    "```\n",
    "AA\n",
    "BB\n",
    "```\n",
    "\n",
    "#### Sample Output 1\n",
    "```\n",
    "0\n",
    "```\n",
    "\n",
    "`AA` and `BB` has no characters in common and hence the output is 0.\n",
    "\n",
    "\n",
    "#### Sample Input 2\n",
    "```\n",
    "SHINCHAN\n",
    "NOHARAAA\n",
    "```\n",
    "\n",
    "#### Sample Output 2\n",
    "```\n",
    "3\n",
    "```\n",
    "\n",
    "The largest set of characters, in order, between `SHINCHAN` and `NOHARAAA` is `NHA`.\n",
    "\n",
    "\n",
    "#### Sample Input 3\n",
    "```\n",
    "ABCDEF\n",
    "FBDAMN\n",
    "```\n",
    "#### Sample Output 3\n",
    "```\n",
    "2\n",
    "```\n",
    "\n",
    "`BD` is the longest child of these strings."
   ]
  },
  {
   "cell_type": "markdown",
   "metadata": {},
   "source": [
    "### Solution using Dynamic Programming\n",
    "\n",
    "We define a 2-dimensional matrix `lcs = int[n][m]`, where `n` and `m` is the length of the strings $\\textit{a}$ and $\\textit{b}$ respectively. `lcs[i][j]` will hold the length of the $\\textit{Longest Common Subsequence (lcs)}$ for `a[:i]` and `b[:j]`.\n",
    "\n",
    "The algorithm looks as follows:\n",
    "1. Iterate over the strings $\\textit{a}$ and $\\textit{b}$.\n",
    "2. Let $\\textit{i}<=n$ and $\\textit{j}<=m$ be the current indices for $\\textit{a}$ and $\\textit{b}$ respectively.\n",
    "3. Compare `a[i]` and `b[j]`:\n",
    "    1. If the characters at index $\\textit{i}$ and $\\textit{j}$ match then the length of the $\\textit{lcs}$ is equal to: $1 + lcs[i-1][j-1]$\n",
    "    2. If the characters at index $\\textit{i}$ and $\\textit{j}$ do not match then the length of the $\\textit{lcs}$ is equal to: $max(lcs[i-1][j],lcs[i][j-1])$\n",
    "\n",
    "\n",
    "\n",
    "**Complexity:**\n",
    "\n",
    "Time complexity: $\\mathcal{O}(nm)$\n",
    "\n",
    "Space complexity: $\\mathcal{O}(nm)$"
   ]
  },
  {
   "cell_type": "code",
   "execution_count": 18,
   "metadata": {
    "collapsed": false
   },
   "outputs": [
    {
     "name": "stdout",
     "output_type": "stream",
     "text": [
      "1417\n"
     ]
    }
   ],
   "source": [
    "import sys\n",
    "\n",
    "f = open(\"in.txt\")\n",
    "\n",
    "a, b = f.readline().strip(), f.readline().strip() #raw_input(), raw_input()\n",
    "\n",
    "n = len(a) + 1\n",
    "m = len(b) + 1\n",
    "\n",
    "lcs = [[0]*(n) for i in range(m)] # lcs[i][j] holds the length of the LCS between a[:i] and b[:j] \n",
    "\n",
    "maximumLength = 0\n",
    "for i in range(1, n):\n",
    "\tfor j in range(1, m):\n",
    "\t\tif (a[i-1] == b[j-1]):\n",
    "\t\t\tlcs[i][j] = lcs[i-1][j-1] + 1\n",
    "\t\telse:\n",
    "\t\t\tlcs[i][j] = max(lcs[i][j-1],lcs[i-1][j])\n",
    "\t\t\t\n",
    "\t\tmaximumLength = max(maximumLength, lcs[i][j])\n",
    "\n",
    "\t\t\t\t\n",
    "print (maximumLength)\t"
   ]
  },
  {
   "cell_type": "markdown",
   "metadata": {},
   "source": [
    "### Optimizing the DP Solution\n",
    "\n",
    "#### Optimization 1\n",
    "Although the program can be written without defining a function to do the work (as it only needs to solve one case), accessing file scope variables is slower than function scope variables. - _Thanks go out to rdn32 from the HackerRank discussion boards_.\n",
    "\n",
    "#### Optimization 2\n",
    "We don't need a $\\textit{mn}$ matrix to store our previous calculations for the previous subproblems. Since we know that both strings have the same length, $\\textit{n}$, it suffices to use a matrix of size $\\textit{2n}$.\n",
    "\n",
    "#### Optimization 3\n",
    "We are also using `enumerate()` instead of `range()` as it tends to be slightly faster.\n",
    "\n",
    "#### Optimization 4\n",
    "We omited the second `max()` computation after each outer iteration."
   ]
  },
  {
   "cell_type": "code",
   "execution_count": 38,
   "metadata": {
    "collapsed": false,
    "scrolled": true
   },
   "outputs": [
    {
     "name": "stdout",
     "output_type": "stream",
     "text": [
      "2\n"
     ]
    }
   ],
   "source": [
    "import sys\n",
    "\n",
    "\n",
    "def solve(a,b):\n",
    "\tn = len(a) + 1\n",
    "\tlcs = [[0]*(n) for i in range(2)]\n",
    "\tindex = 0\n",
    "\tfor i, x in enumerate(a):\n",
    "\t\tindex = abs(index - 1)\n",
    "\t\tfor j, y in enumerate(b):\n",
    "\t\t\tif (x == y):\n",
    "\t\t\t\tlcs[index][j+1] = lcs[index-1][j] + 1\n",
    "\t\t\telse:\n",
    "\t\t\t\tlcs[index][j+1] = max(lcs[index][j],lcs[index-1][j+1])\n",
    "\t\t\t\t\n",
    "\treturn max(lcs[0][-1],lcs[1][-1])\t\n",
    "    \n",
    "def main():\n",
    "\tf = open(\"in.txt\")\n",
    "\ta, b = \"HARRY\", \"SALLY\"#f.readline().strip(), f.readline().strip() #raw_input(), raw_input()   \n",
    "\tprint (solve(a,b))\n",
    "\n",
    "main()"
   ]
  }
 ],
 "metadata": {
  "kernelspec": {
   "display_name": "Python 3",
   "language": "python",
   "name": "python3"
  },
  "language_info": {
   "codemirror_mode": {
    "name": "ipython",
    "version": 3
   },
   "file_extension": ".py",
   "mimetype": "text/x-python",
   "name": "python",
   "nbconvert_exporter": "python",
   "pygments_lexer": "ipython3",
   "version": "3.5.2"
  }
 },
 "nbformat": 4,
 "nbformat_minor": 1
}
