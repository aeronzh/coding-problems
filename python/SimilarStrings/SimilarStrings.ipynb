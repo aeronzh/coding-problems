{
 "cells": [
  {
   "cell_type": "markdown",
   "metadata": {},
   "source": [
    "### Similar Strings\n",
    "\n",
    "Jimmy loves playing with strings. He thinks string $A$ is similar to string $B$ if the following conditions are satisfied:\n",
    "\n",
    "- Both strings have the same length (i.e., $A = a_0 a_1 ... a_{n-1}$  and $B = b_0 b_1 ... b_{n-1}$).\n",
    "- For each valid pair of indices,$(i,j)$, in the strings, $[a_i = a_j$ and $b_i = b_j]$ or $[a_i \\ne a_j$ and $b_i \\ne b_j]$.\n",
    "\n",
    "He has string, $S$, size of $n$ and gives you $q$ queries to answer where each query is in the form of a pair of integers $(i_i, r_i)$. For each substring $S[l_i, r_i]$, find the number of substrings $S[x,y]$ where substring $S[l_i, r_i]$ is similar to substring $S[x,y]$ and print this number on a new line.\n",
    "\n",
    "Note: Substring $S[x,y]$ is the contiguous sequence of characters from index $x$ to index $y$. For example, if $S=$ `abcdefgh`, then $S[3,6]=$ `cdef`.\n",
    "\n",
    "**Input Format**\n",
    "\n",
    "The first line contains two space-separated integers describing the respective values of $n$ and $q$. \n",
    "The second line contains string $S$. \n",
    "Each line $i$ of the $q$ subsequent lines contains two space-separated integers describing the respective values of $l_i$ and $r_i$ for query i.\n",
    "\n",
    "**Constraints**\n",
    "- $1\\le n,q\\le 5 \\times 10^4$\n",
    "- $1\\le L_i\\le R_i \\le n$\n",
    "- $s_i \\in {a,b,c,d,e,f,g,h,i,j}$\n",
    "\n",
    "**Output Format**\n",
    "\n",
    "For each query, print the number of similar substrings on a new line.\n",
    "\n",
    "**Sample Input**\n",
    "```\n",
    "8 4\n",
    "giggabaj\n",
    "1 1\n",
    "1 2\n",
    "1 3\n",
    "2 4\n",
    "```\n",
    "\n",
    "**Sample Output**\n",
    "```\n",
    "8\n",
    "6\n",
    "2\n",
    "1\n",
    "```\n",
    "\n",
    "**Explanation**\n",
    "\n",
    "We perform the following sequence of queries:\n",
    "\n",
    "1. Strings with length $1$ are all similar, so our answer is $8$.\n",
    "2. `gi`, `ig`, `ga`, `ab`, `ba`, and `aj` are similar, so our answer is $6$.\n",
    "3. `gig` and `aba` are similar, so our answer is $2$.\n",
    "4. `igg` has no similar string, so our answer is $1$.\n"
   ]
  },
  {
   "cell_type": "code",
   "execution_count": 13,
   "metadata": {
    "collapsed": false
   },
   "outputs": [
    {
     "name": "stdout",
     "output_type": "stream",
     "text": [
      "g\n",
      "8\n",
      "gi\n",
      "8\n",
      "gig\n",
      "8\n",
      "igg\n",
      "8\n"
     ]
    }
   ],
   "source": [
    "import sys\n",
    "\n",
    "def getAllSubstrings(str):\n",
    "\tlength = len(str)\n",
    "\treturn [str[i:j+1] for i in range(length) for j in range(i,length)]\n",
    "\n",
    "def solve(l,r,s,subStrings):\n",
    "    target = s[l-1:r]\n",
    "    print(target)\n",
    "    return 8\n",
    "    \n",
    "def main():\n",
    "\tf = open(\"in.txt\")\n",
    "\tn, queries = (int(i) for i in f.readline().split())\n",
    "\ts = f.readline().rstrip()\n",
    "\tsubStrings = getAllSubstrings(s)\n",
    "\tfor q in range(0, queries):\n",
    "\t\tl, r = (int(i) for i in f.readline().split())        \n",
    "\t\tprint(solve(l,r,s,subStrings))\n",
    "\n",
    "main()"
   ]
  }
 ],
 "metadata": {
  "kernelspec": {
   "display_name": "Python 3",
   "language": "python",
   "name": "python3"
  },
  "language_info": {
   "codemirror_mode": {
    "name": "ipython",
    "version": 3
   },
   "file_extension": ".py",
   "mimetype": "text/x-python",
   "name": "python",
   "nbconvert_exporter": "python",
   "pygments_lexer": "ipython3",
   "version": "3.5.2"
  }
 },
 "nbformat": 4,
 "nbformat_minor": 1
}
